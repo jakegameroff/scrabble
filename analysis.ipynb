{
 "cells": [
  {
   "cell_type": "code",
   "execution_count": 1,
   "id": "6cd055e3",
   "metadata": {},
   "outputs": [],
   "source": [
    "from lexicon import Lexicon\n",
    "from scrabbler import Scrabbler\n",
    "lex = Lexicon(\"NWL23\", \"nwl23.json\")"
   ]
  },
  {
   "cell_type": "markdown",
   "id": "eb4ebe4e",
   "metadata": {},
   "source": [
    "Probability of starting with a bingo"
   ]
  },
  {
   "cell_type": "code",
   "execution_count": null,
   "id": "f38361bd",
   "metadata": {},
   "outputs": [],
   "source": [
    "num_bingos = 0\n",
    "jake = Scrabbler(lex)\n",
    "rounds = 10000\n",
    "for i in range(rounds):\n",
    "    jake.generate_rack()\n",
    "    if jake.has_bingo():\n",
    "        num_bingos += 1\n",
    "\n",
    "print(f\"The probability of starting with a bingo is about {num_bingos / rounds}\")"
   ]
  },
  {
   "cell_type": "code",
   "execution_count": null,
   "id": "568d3fce",
   "metadata": {},
   "outputs": [],
   "source": []
  }
 ],
 "metadata": {
  "kernelspec": {
   "display_name": "Python 3",
   "language": "python",
   "name": "python3"
  },
  "language_info": {
   "codemirror_mode": {
    "name": "ipython",
    "version": 3
   },
   "file_extension": ".py",
   "mimetype": "text/x-python",
   "name": "python",
   "nbconvert_exporter": "python",
   "pygments_lexer": "ipython3",
   "version": "3.12.9"
  }
 },
 "nbformat": 4,
 "nbformat_minor": 5
}
