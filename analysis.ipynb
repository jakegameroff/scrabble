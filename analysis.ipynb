{
 "cells": [
  {
   "cell_type": "code",
   "execution_count": null,
   "id": "6cd055e3",
   "metadata": {},
   "outputs": [],
   "source": [
    "from itertools import combinations\n",
    "from lexicon import Lexicon\n",
    "from scrabbler import Scrabbler\n",
    "import math\n",
    "import json\n",
    "\n",
    "\n",
    "lex = Lexicon(\"NWL23\", \"nwl23.json\")\n",
    "jake = Scrabbler(lex) "
   ]
  },
  {
   "cell_type": "markdown",
   "id": "eb4ebe4e",
   "metadata": {},
   "source": [
    "Probability of starting with a bingo"
   ]
  },
  {
   "cell_type": "code",
   "execution_count": 3,
   "id": "f38361bd",
   "metadata": {},
   "outputs": [
    {
     "name": "stdout",
     "output_type": "stream",
     "text": [
      "The probability of starting with a bingo is about 0.13272\n"
     ]
    }
   ],
   "source": [
    "num_bingos = 0\n",
    "rounds = 100_000\n",
    "for i in range(rounds):\n",
    "    jake.generate_rack()\n",
    "    if jake.has_bingo():\n",
    "        num_bingos += 1\n",
    "\n",
    "print(f\"The probability of starting with a bingo is about {num_bingos / rounds}\")"
   ]
  },
  {
   "cell_type": "markdown",
   "id": "101cb7c1",
   "metadata": {},
   "source": [
    "Bingoable racks with the highest probability of being drawn."
   ]
  },
  {
   "cell_type": "code",
   "execution_count": 9,
   "id": "0abd2292",
   "metadata": {},
   "outputs": [
    {
     "name": "stdout",
     "output_type": "stream",
     "text": [
      "Best racks:\n",
      "AEEINRT: 7.213691170237504e-05 3 bingos\n",
      "ADEINOR: 6.995094468109095e-05 1 bingos\n",
      "AEINOST: 6.995094468109095e-05 1 bingos\n",
      "AEINORS: 6.995094468109095e-05 1 bingos\n",
      "AEILNOR: 6.995094468109095e-05 2 bingos\n",
      "AEILNOT: 6.995094468109095e-05 2 bingos\n",
      "AEGIORT: 5.246320851081821e-05 1 bingos\n",
      "AEILNRT: 5.246320851081821e-05 5 bingos\n",
      "ADEINRT: 5.246320851081821e-05 3 bingos\n",
      "AEINRST: 5.246320851081821e-05 9 bingos\n"
     ]
    }
   ],
   "source": [
    "# Let R be the set of all bingoable racks. We will map\n",
    "# each rack r in R to (p, B), where p is the probability\n",
    "# of drawing r and B is the set of all bingos that can\n",
    "# be made with r.\n",
    "\n",
    "def probability(rack):\n",
    "    unique_tiles = list(set(rack))\n",
    "    tile_counts = {t: rack.count(t) for t in unique_tiles}\n",
    "    numerator = math.prod([math.comb(lex.tile_distribution[t], tile_counts[t]) for t in unique_tiles])\n",
    "    denominator = math.comb(100, 7)\n",
    "\n",
    "    # n_t := number of times we have t in the rack\n",
    "    # b_t := number of t tiles in the bag\n",
    "    # So then if T := {u : u in unique_tiles}, we have\n",
    "    # Pr(rack) = prod_{t in T} (b_t choose n_t) / (100 choose 7)\n",
    "\n",
    "    return numerator / denominator\n",
    "\n",
    "bingo_map = {}\n",
    "seven_letters_words = lex.len_k_words(7)\n",
    "bingoable_racks = set([''.join(sorted(list(w))) for w in seven_letters_words])\n",
    "\n",
    "for rack in bingoable_racks:\n",
    "    pr = probability(rack)\n",
    "    bingos = list(jake.anagrams(s=rack))\n",
    "    bingo_map[rack] = [pr, bingos]\n",
    "\n",
    "items = list(bingo_map.items())\n",
    "items.sort(key=lambda d: d[1][0], reverse=True) # sort by probability\n",
    "items = [(k.upper(), v) for k, v in items] # remove empty bingos\n",
    "bingo_map = dict(items)\n",
    "\n",
    "best_racks = dict(list(bingo_map.items())[:10])\n",
    "print(\"Best racks:\")\n",
    "for rack, (pr, bingos) in best_racks.items():\n",
    "    print(f\"{rack}: {pr} {len(bingos)} bingos\")\n",
    "\n",
    "with open(\"results/bingo_map.json\", \"w\") as d:\n",
    "    json.dump(bingo_map, d, indent=2)"
   ]
  }
 ],
 "metadata": {
  "kernelspec": {
   "display_name": "Python 3",
   "language": "python",
   "name": "python3"
  },
  "language_info": {
   "codemirror_mode": {
    "name": "ipython",
    "version": 3
   },
   "file_extension": ".py",
   "mimetype": "text/x-python",
   "name": "python",
   "nbconvert_exporter": "python",
   "pygments_lexer": "ipython3",
   "version": "3.12.9"
  }
 },
 "nbformat": 4,
 "nbformat_minor": 5
}
