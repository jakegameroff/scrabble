{
 "cells": [
  {
   "cell_type": "code",
   "execution_count": 9,
   "id": "6cd055e3",
   "metadata": {},
   "outputs": [],
   "source": [
    "from itertools import combinations\n",
    "from lexicon import Lexicon\n",
    "from scrabbler import Scrabbler\n",
    "lex = Lexicon(\"NWL23\", \"nwl23.json\")"
   ]
  },
  {
   "cell_type": "markdown",
   "id": "eb4ebe4e",
   "metadata": {},
   "source": [
    "Probability of starting with a bingo"
   ]
  },
  {
   "cell_type": "code",
   "execution_count": null,
   "id": "f38361bd",
   "metadata": {},
   "outputs": [
    {
     "ename": "",
     "evalue": "",
     "output_type": "error",
     "traceback": [
      "\u001b[1;31mThe Kernel crashed while executing code in the current cell or a previous cell. \n",
      "\u001b[1;31mPlease review the code in the cell(s) to identify a possible cause of the failure. \n",
      "\u001b[1;31mClick <a href='https://aka.ms/vscodeJupyterKernelCrash'>here</a> for more info. \n",
      "\u001b[1;31mView Jupyter <a href='command:jupyter.viewOutput'>log</a> for further details."
     ]
    }
   ],
   "source": [
    "num_bingos = 0\n",
    "for i in range(1_000_000):\n",
    "    if i % 1000 == 0:\n",
    "        print(i)\n",
    "    jake = Scrabbler(lex)\n",
    "    if jake.has_bingo():\n",
    "        num_bingos += 1\n",
    "\n",
    "print(f\"The probability of starting with a bingo is about {num_bingos / 1_000_000:2f}%\")"
   ]
  }
 ],
 "metadata": {
  "kernelspec": {
   "display_name": "Python 3",
   "language": "python",
   "name": "python3"
  },
  "language_info": {
   "codemirror_mode": {
    "name": "ipython",
    "version": 3
   },
   "file_extension": ".py",
   "mimetype": "text/x-python",
   "name": "python",
   "nbconvert_exporter": "python",
   "pygments_lexer": "ipython3",
   "version": "3.12.9"
  }
 },
 "nbformat": 4,
 "nbformat_minor": 5
}
